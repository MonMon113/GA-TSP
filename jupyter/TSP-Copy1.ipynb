{
 "cells": [
  {
   "cell_type": "code",
   "execution_count": 2,
   "metadata": {},
   "outputs": [],
   "source": [
    "import numpy as np, random, operator, pandas as pd, matplotlib.pyplot as plt"
   ]
  },
  {
   "cell_type": "code",
   "execution_count": 10,
   "metadata": {},
   "outputs": [],
   "source": [
    "map = {}\n",
    "class Data:\n",
    "    # lay du lieu tu trong file\n",
    "    def __init__(self, filename):\n",
    "        lines = open(filename).read().split('\\n')\n",
    "        i = 0\n",
    "        n = 1\n",
    "        for line in lines:\n",
    "            i = i + 1\n",
    "            if i >= 7 and line != 'EOF' and line != '':\n",
    "                type1 = [float(_) for _ in line.split()]\n",
    "                map[n] = type1\n",
    "                n = n + 1"
   ]
  },
  {
   "cell_type": "code",
   "execution_count": 37,
   "metadata": {},
   "outputs": [],
   "source": [
    "class GA:\n",
    "    def distance(self, city1, city2):\n",
    "        if city1 in map and city2 in map:\n",
    "            point1 = map[city1]\n",
    "            point2 = map[city2]\n",
    "            distance = np.power(((point1[1]-point2[1])**2 + (point1[2]-point2[2])**2), 0.5)\n",
    "        return distance\n",
    "    \n",
    "    def routeDistance(self, route):\n",
    "        distance = 0\n",
    "        for i in range(0, len(route)):\n",
    "            fromCity = route[i]\n",
    "            toCity = None\n",
    "            if i + 1 < len(route):\n",
    "                toCity = route[i + 1]\n",
    "            else:\n",
    "                toCity = route[0]\n",
    "            distance += self.distance(fromCity, toCity)\n",
    "        return distance\n",
    "    \n",
    "    def routeFitness(self, route):\n",
    "        fitness = 1 / float(self.routeDistance(route))\n",
    "        return fitness\n",
    "    \n",
    "    def createRoute(self):\n",
    "        route = random.sample(list(map), len(map))\n",
    "        return route\n",
    "    \n",
    "    def initialPopulation(self, popSize):\n",
    "        population = []\n",
    "        for i in range(popSize):\n",
    "            population.append(self.createRoute())\n",
    "        return population\n",
    "    \n",
    "    def selection(self):\n",
    "        # chon lua theo fitness = 1/distance, lua chon ngau nhien boi vong quay roullette\n",
    "        # luu ti le phan tram tuong ung voi moi diem o percentFitness\n",
    "        fitnessValue = 0\n",
    "        for i in popSize:\n",
    "            fitness[i] = self.routeFitness(population[i])\n",
    "            fitnessValue += fitness[i]\n",
    "            percentFitness[i] = fitnessValue\n",
    "        for m in fitness:\n",
    "            percentFitness[m] = float(percentFitness[m]*100)/fitnessValue\n",
    "        parent = {}\n",
    "        i = 1\n",
    "        while const >= i:\n",
    "            rand = float(random.randrange(0, 10000))/100\n",
    "            parent[i] = 1\n",
    "            for n in percentFitness:\n",
    "                if percentFitness[n] < rand and percentFitness[n-1] >= rand:\n",
    "                    parent[i] = n - 1\n",
    "            out = 0\n",
    "            for m in parent:\n",
    "                if parent[m] == parent[i] and m != i:\n",
    "                    out = 1\n",
    "            if out == 0:\n",
    "                i = i + 1\n",
    "            if out != 0:\n",
    "                i = i\n",
    "        return parent"
   ]
  },
  {
   "cell_type": "code",
   "execution_count": 51,
   "metadata": {},
   "outputs": [
    {
     "name": "stdout",
     "output_type": "stream",
     "text": [
      "File data: \n",
      "[[112, 124, 47, 269, 146, 38, 255, 8, 81, 92, 183, 186, 222, 57, 202, 90, 95, 167, 143, 94, 86, 14, 245, 77, 259, 263, 223, 10, 42, 199, 185, 178, 206, 265, 154, 28, 235, 278, 101, 204, 116, 176, 193, 276, 273, 16, 173, 27, 49, 120, 61, 249, 157, 261, 105, 241, 230, 22, 236, 181, 75, 108, 78, 187, 76, 64, 174, 115, 266, 88, 228, 21, 70, 32, 37, 196, 1, 237, 205, 79, 153, 240, 267, 135, 197, 217, 34, 254, 138, 118, 44, 98, 139, 218, 39, 155, 33, 63, 262, 182, 225, 195, 213, 110, 168, 175, 270, 58, 248, 83, 258, 41, 214, 221, 142, 59, 107, 233, 55, 163, 29, 17, 220, 149, 280, 72, 128, 190, 201, 198, 130, 121, 158, 192, 152, 2, 54, 133, 208, 7, 156, 99, 279, 234, 56, 91, 162, 25, 164, 67, 275, 26, 215, 141, 271, 69, 60, 50, 36, 231, 257, 140, 277, 184, 129, 102, 172, 15, 93, 171, 89, 30, 114, 166, 210, 11, 160, 136, 144, 256, 23, 212, 272, 216, 43, 5, 35, 68, 9, 238, 264, 85, 268, 40, 53, 132, 246, 134, 151, 104, 46, 20, 97, 189, 161, 51, 148, 111, 66, 150, 48, 96, 232, 242, 131, 19, 31, 18, 82, 125, 145, 252, 126, 24, 169, 74, 260, 247, 253, 6, 165, 147, 194, 113, 71, 203, 177, 209, 274, 179, 207, 45, 4, 80, 12, 200, 226, 119, 239, 243, 251, 127, 106, 84, 117, 103, 244, 219, 109, 65, 62, 3, 170, 229, 191, 123, 87, 227, 224, 52, 250, 73, 188, 211, 122, 13, 180, 137, 159, 100], [64, 185, 7, 158, 268, 15, 70, 192, 95, 141, 74, 159, 156, 125, 102, 73, 85, 92, 242, 40, 207, 55, 127, 109, 279, 239, 90, 248, 33, 215, 27, 168, 53, 148, 273, 72, 272, 167, 77, 199, 151, 143, 181, 243, 201, 164, 216, 265, 110, 10, 128, 122, 29, 260, 111, 39, 259, 88, 197, 214, 79, 41, 142, 63, 138, 59, 51, 100, 46, 171, 116, 252, 182, 89, 83, 146, 271, 157, 120, 253, 38, 52, 99, 224, 205, 219, 220, 222, 123, 221, 189, 280, 137, 175, 240, 257, 34, 228, 71, 76, 231, 8, 132, 44, 173, 255, 177, 35, 12, 198, 266, 162, 129, 212, 47, 218, 226, 209, 179, 105, 136, 94, 225, 30, 65, 42, 82, 31, 1, 32, 208, 223, 36, 119, 61, 3, 193, 86, 18, 251, 230, 213, 206, 139, 124, 200, 152, 5, 233, 229, 135, 261, 262, 217, 178, 81, 267, 69, 244, 180, 250, 256, 113, 24, 121, 163, 232, 104, 176, 245, 166, 275, 62, 13, 67, 58, 264, 54, 16, 43, 270, 112, 153, 263, 20, 56, 98, 107, 118, 184, 160, 249, 246, 274, 19, 254, 269, 202, 9, 68, 144, 237, 172, 103, 134, 11, 145, 194, 108, 101, 195, 147, 131, 50, 23, 165, 66, 49, 258, 26, 60, 149, 97, 169, 278, 28, 235, 106, 234, 188, 236, 186, 187, 6, 183, 196, 45, 170, 4, 115, 154, 203, 75, 241, 114, 227, 155, 84, 277, 80, 211, 25, 2, 48, 161, 191, 140, 130, 17, 276, 210, 96, 37, 22, 57, 21, 14, 87, 126, 204, 78, 190, 117, 238, 150, 93, 247, 174, 91, 133], [159, 72, 4, 180, 22, 208, 68, 184, 131, 223, 80, 214, 44, 211, 179, 10, 49, 275, 54, 9, 241, 257, 140, 215, 262, 101, 32, 25, 156, 128, 170, 123, 41, 251, 260, 216, 207, 115, 169, 87, 202, 69, 176, 113, 193, 76, 6, 255, 78, 135, 48, 191, 74, 21, 157, 210, 94, 199, 129, 52, 108, 122, 203, 111, 24, 116, 20, 240, 222, 112, 161, 154, 132, 36, 225, 102, 164, 28, 105, 256, 127, 45, 56, 247, 15, 1, 190, 155, 187, 107, 235, 186, 17, 126, 100, 264, 212, 66, 96, 230, 114, 233, 84, 75, 119, 70, 153, 86, 34, 92, 273, 118, 139, 117, 234, 38, 30, 71, 149, 106, 18, 213, 57, 218, 246, 263, 61, 27, 143, 7, 67, 261, 95, 138, 90, 73, 120, 46, 254, 109, 177, 98, 226, 249, 163, 88, 232, 3, 253, 265, 239, 13, 229, 258, 224, 162, 134, 175, 220, 174, 82, 217, 29, 185, 81, 194, 182, 219, 5, 89, 243, 237, 245, 133, 51, 125, 252, 93, 171, 238, 145, 267, 11, 130, 244, 55, 83, 168, 189, 60, 178, 280, 147, 151, 271, 103, 146, 2, 196, 62, 37, 276, 63, 47, 272, 26, 23, 150, 136, 231, 192, 50, 160, 200, 142, 79, 39, 167, 165, 236, 268, 166, 172, 248, 144, 40, 31, 33, 64, 8, 181, 221, 14, 12, 201, 99, 65, 85, 228, 104, 137, 35, 148, 152, 97, 197, 242, 16, 121, 42, 110, 278, 188, 53, 274, 209, 91, 58, 266, 183, 205, 259, 124, 141, 206, 59, 279, 158, 43, 270, 198, 173, 19, 227, 195, 269, 77, 277, 204, 250]]\n",
      "33114.00167563828\n",
      "3.019870596720095e-05\n",
      "35355.983308043484\n",
      "2.8283755857880497e-05\n",
      "35243.0930360305\n",
      "2.8374354060741998e-05\n",
      "[(0, 3.019870596720095e-05), (2, 2.8374354060741998e-05), (1, 2.8283755857880497e-05)]\n"
     ]
    },
    {
     "ename": "ValueError",
     "evalue": "Wrong number of items passed 2, placement implies 1",
     "output_type": "error",
     "traceback": [
      "\u001b[0;31m---------------------------------------------------------------------------\u001b[0m",
      "\u001b[0;31mKeyError\u001b[0m                                  Traceback (most recent call last)",
      "\u001b[0;32m~/.local/lib/python3.6/site-packages/pandas/core/indexes/base.py\u001b[0m in \u001b[0;36mget_loc\u001b[0;34m(self, key, method, tolerance)\u001b[0m\n\u001b[1;32m   2896\u001b[0m             \u001b[0;32mtry\u001b[0m\u001b[0;34m:\u001b[0m\u001b[0;34m\u001b[0m\u001b[0;34m\u001b[0m\u001b[0m\n\u001b[0;32m-> 2897\u001b[0;31m                 \u001b[0;32mreturn\u001b[0m \u001b[0mself\u001b[0m\u001b[0;34m.\u001b[0m\u001b[0m_engine\u001b[0m\u001b[0;34m.\u001b[0m\u001b[0mget_loc\u001b[0m\u001b[0;34m(\u001b[0m\u001b[0mkey\u001b[0m\u001b[0;34m)\u001b[0m\u001b[0;34m\u001b[0m\u001b[0;34m\u001b[0m\u001b[0m\n\u001b[0m\u001b[1;32m   2898\u001b[0m             \u001b[0;32mexcept\u001b[0m \u001b[0mKeyError\u001b[0m\u001b[0;34m:\u001b[0m\u001b[0;34m\u001b[0m\u001b[0;34m\u001b[0m\u001b[0m\n",
      "\u001b[0;32mpandas/_libs/index.pyx\u001b[0m in \u001b[0;36mpandas._libs.index.IndexEngine.get_loc\u001b[0;34m()\u001b[0m\n",
      "\u001b[0;32mpandas/_libs/index.pyx\u001b[0m in \u001b[0;36mpandas._libs.index.IndexEngine.get_loc\u001b[0;34m()\u001b[0m\n",
      "\u001b[0;32mpandas/_libs/hashtable_class_helper.pxi\u001b[0m in \u001b[0;36mpandas._libs.hashtable.PyObjectHashTable.get_item\u001b[0;34m()\u001b[0m\n",
      "\u001b[0;32mpandas/_libs/hashtable_class_helper.pxi\u001b[0m in \u001b[0;36mpandas._libs.hashtable.PyObjectHashTable.get_item\u001b[0;34m()\u001b[0m\n",
      "\u001b[0;31mKeyError\u001b[0m: 'cum_sum'",
      "\nDuring handling of the above exception, another exception occurred:\n",
      "\u001b[0;31mKeyError\u001b[0m                                  Traceback (most recent call last)",
      "\u001b[0;32m~/.local/lib/python3.6/site-packages/pandas/core/internals/managers.py\u001b[0m in \u001b[0;36mset\u001b[0;34m(self, item, value)\u001b[0m\n\u001b[1;32m   1068\u001b[0m         \u001b[0;32mtry\u001b[0m\u001b[0;34m:\u001b[0m\u001b[0;34m\u001b[0m\u001b[0;34m\u001b[0m\u001b[0m\n\u001b[0;32m-> 1069\u001b[0;31m             \u001b[0mloc\u001b[0m \u001b[0;34m=\u001b[0m \u001b[0mself\u001b[0m\u001b[0;34m.\u001b[0m\u001b[0mitems\u001b[0m\u001b[0;34m.\u001b[0m\u001b[0mget_loc\u001b[0m\u001b[0;34m(\u001b[0m\u001b[0mitem\u001b[0m\u001b[0;34m)\u001b[0m\u001b[0;34m\u001b[0m\u001b[0;34m\u001b[0m\u001b[0m\n\u001b[0m\u001b[1;32m   1070\u001b[0m         \u001b[0;32mexcept\u001b[0m \u001b[0mKeyError\u001b[0m\u001b[0;34m:\u001b[0m\u001b[0;34m\u001b[0m\u001b[0;34m\u001b[0m\u001b[0m\n",
      "\u001b[0;32m~/.local/lib/python3.6/site-packages/pandas/core/indexes/base.py\u001b[0m in \u001b[0;36mget_loc\u001b[0;34m(self, key, method, tolerance)\u001b[0m\n\u001b[1;32m   2898\u001b[0m             \u001b[0;32mexcept\u001b[0m \u001b[0mKeyError\u001b[0m\u001b[0;34m:\u001b[0m\u001b[0;34m\u001b[0m\u001b[0;34m\u001b[0m\u001b[0m\n\u001b[0;32m-> 2899\u001b[0;31m                 \u001b[0;32mreturn\u001b[0m \u001b[0mself\u001b[0m\u001b[0;34m.\u001b[0m\u001b[0m_engine\u001b[0m\u001b[0;34m.\u001b[0m\u001b[0mget_loc\u001b[0m\u001b[0;34m(\u001b[0m\u001b[0mself\u001b[0m\u001b[0;34m.\u001b[0m\u001b[0m_maybe_cast_indexer\u001b[0m\u001b[0;34m(\u001b[0m\u001b[0mkey\u001b[0m\u001b[0;34m)\u001b[0m\u001b[0;34m)\u001b[0m\u001b[0;34m\u001b[0m\u001b[0;34m\u001b[0m\u001b[0m\n\u001b[0m\u001b[1;32m   2900\u001b[0m         \u001b[0mindexer\u001b[0m \u001b[0;34m=\u001b[0m \u001b[0mself\u001b[0m\u001b[0;34m.\u001b[0m\u001b[0mget_indexer\u001b[0m\u001b[0;34m(\u001b[0m\u001b[0;34m[\u001b[0m\u001b[0mkey\u001b[0m\u001b[0;34m]\u001b[0m\u001b[0;34m,\u001b[0m \u001b[0mmethod\u001b[0m\u001b[0;34m=\u001b[0m\u001b[0mmethod\u001b[0m\u001b[0;34m,\u001b[0m \u001b[0mtolerance\u001b[0m\u001b[0;34m=\u001b[0m\u001b[0mtolerance\u001b[0m\u001b[0;34m)\u001b[0m\u001b[0;34m\u001b[0m\u001b[0;34m\u001b[0m\u001b[0m\n",
      "\u001b[0;32mpandas/_libs/index.pyx\u001b[0m in \u001b[0;36mpandas._libs.index.IndexEngine.get_loc\u001b[0;34m()\u001b[0m\n",
      "\u001b[0;32mpandas/_libs/index.pyx\u001b[0m in \u001b[0;36mpandas._libs.index.IndexEngine.get_loc\u001b[0;34m()\u001b[0m\n",
      "\u001b[0;32mpandas/_libs/hashtable_class_helper.pxi\u001b[0m in \u001b[0;36mpandas._libs.hashtable.PyObjectHashTable.get_item\u001b[0;34m()\u001b[0m\n",
      "\u001b[0;32mpandas/_libs/hashtable_class_helper.pxi\u001b[0m in \u001b[0;36mpandas._libs.hashtable.PyObjectHashTable.get_item\u001b[0;34m()\u001b[0m\n",
      "\u001b[0;31mKeyError\u001b[0m: 'cum_sum'",
      "\nDuring handling of the above exception, another exception occurred:\n",
      "\u001b[0;31mValueError\u001b[0m                                Traceback (most recent call last)",
      "\u001b[0;32m<ipython-input-51-cd50ebf309fe>\u001b[0m in \u001b[0;36m<module>\u001b[0;34m\u001b[0m\n\u001b[1;32m     14\u001b[0m \u001b[0;34m\u001b[0m\u001b[0m\n\u001b[1;32m     15\u001b[0m \u001b[0mdf\u001b[0m \u001b[0;34m=\u001b[0m \u001b[0mpd\u001b[0m\u001b[0;34m.\u001b[0m\u001b[0mDataFrame\u001b[0m\u001b[0;34m(\u001b[0m\u001b[0mnp\u001b[0m\u001b[0;34m.\u001b[0m\u001b[0marray\u001b[0m\u001b[0;34m(\u001b[0m\u001b[0mcurrentRanked\u001b[0m\u001b[0;34m)\u001b[0m\u001b[0;34m,\u001b[0m \u001b[0mcolumns\u001b[0m\u001b[0;34m=\u001b[0m\u001b[0;34m[\u001b[0m\u001b[0;34m\"Index\"\u001b[0m\u001b[0;34m,\u001b[0m \u001b[0;34m\"Fitness\"\u001b[0m\u001b[0;34m]\u001b[0m\u001b[0;34m)\u001b[0m\u001b[0;34m\u001b[0m\u001b[0;34m\u001b[0m\u001b[0m\n\u001b[0;32m---> 16\u001b[0;31m \u001b[0mdf\u001b[0m\u001b[0;34m[\u001b[0m\u001b[0;34m'cum_sum'\u001b[0m\u001b[0;34m]\u001b[0m \u001b[0;34m=\u001b[0m \u001b[0mdf\u001b[0m\u001b[0;34m.\u001b[0m\u001b[0mcumsum\u001b[0m\u001b[0;34m(\u001b[0m\u001b[0;34m)\u001b[0m\u001b[0;34m\u001b[0m\u001b[0;34m\u001b[0m\u001b[0m\n\u001b[0m\u001b[1;32m     17\u001b[0m \u001b[0mdf\u001b[0m\u001b[0;34m[\u001b[0m\u001b[0;34m'cum_perc'\u001b[0m\u001b[0;34m]\u001b[0m \u001b[0;34m=\u001b[0m \u001b[0;36m100\u001b[0m \u001b[0;34m*\u001b[0m \u001b[0mdf\u001b[0m\u001b[0;34m.\u001b[0m\u001b[0mcum_sum\u001b[0m \u001b[0;34m/\u001b[0m \u001b[0mdf\u001b[0m\u001b[0;34m.\u001b[0m\u001b[0msum\u001b[0m\u001b[0;34m(\u001b[0m\u001b[0;34m)\u001b[0m\u001b[0;34m\u001b[0m\u001b[0;34m\u001b[0m\u001b[0m\n\u001b[1;32m     18\u001b[0m \u001b[0mplt\u001b[0m\u001b[0;34m.\u001b[0m\u001b[0mplot\u001b[0m\u001b[0;34m(\u001b[0m\u001b[0mdf\u001b[0m\u001b[0;34m)\u001b[0m\u001b[0;34m\u001b[0m\u001b[0;34m\u001b[0m\u001b[0m\n",
      "\u001b[0;32m~/.local/lib/python3.6/site-packages/pandas/core/frame.py\u001b[0m in \u001b[0;36m__setitem__\u001b[0;34m(self, key, value)\u001b[0m\n\u001b[1;32m   3470\u001b[0m         \u001b[0;32melse\u001b[0m\u001b[0;34m:\u001b[0m\u001b[0;34m\u001b[0m\u001b[0;34m\u001b[0m\u001b[0m\n\u001b[1;32m   3471\u001b[0m             \u001b[0;31m# set column\u001b[0m\u001b[0;34m\u001b[0m\u001b[0;34m\u001b[0m\u001b[0;34m\u001b[0m\u001b[0m\n\u001b[0;32m-> 3472\u001b[0;31m             \u001b[0mself\u001b[0m\u001b[0;34m.\u001b[0m\u001b[0m_set_item\u001b[0m\u001b[0;34m(\u001b[0m\u001b[0mkey\u001b[0m\u001b[0;34m,\u001b[0m \u001b[0mvalue\u001b[0m\u001b[0;34m)\u001b[0m\u001b[0;34m\u001b[0m\u001b[0;34m\u001b[0m\u001b[0m\n\u001b[0m\u001b[1;32m   3473\u001b[0m \u001b[0;34m\u001b[0m\u001b[0m\n\u001b[1;32m   3474\u001b[0m     \u001b[0;32mdef\u001b[0m \u001b[0m_setitem_slice\u001b[0m\u001b[0;34m(\u001b[0m\u001b[0mself\u001b[0m\u001b[0;34m,\u001b[0m \u001b[0mkey\u001b[0m\u001b[0;34m,\u001b[0m \u001b[0mvalue\u001b[0m\u001b[0;34m)\u001b[0m\u001b[0;34m:\u001b[0m\u001b[0;34m\u001b[0m\u001b[0;34m\u001b[0m\u001b[0m\n",
      "\u001b[0;32m~/.local/lib/python3.6/site-packages/pandas/core/frame.py\u001b[0m in \u001b[0;36m_set_item\u001b[0;34m(self, key, value)\u001b[0m\n\u001b[1;32m   3548\u001b[0m         \u001b[0mself\u001b[0m\u001b[0;34m.\u001b[0m\u001b[0m_ensure_valid_index\u001b[0m\u001b[0;34m(\u001b[0m\u001b[0mvalue\u001b[0m\u001b[0;34m)\u001b[0m\u001b[0;34m\u001b[0m\u001b[0;34m\u001b[0m\u001b[0m\n\u001b[1;32m   3549\u001b[0m         \u001b[0mvalue\u001b[0m \u001b[0;34m=\u001b[0m \u001b[0mself\u001b[0m\u001b[0;34m.\u001b[0m\u001b[0m_sanitize_column\u001b[0m\u001b[0;34m(\u001b[0m\u001b[0mkey\u001b[0m\u001b[0;34m,\u001b[0m \u001b[0mvalue\u001b[0m\u001b[0;34m)\u001b[0m\u001b[0;34m\u001b[0m\u001b[0;34m\u001b[0m\u001b[0m\n\u001b[0;32m-> 3550\u001b[0;31m         \u001b[0mNDFrame\u001b[0m\u001b[0;34m.\u001b[0m\u001b[0m_set_item\u001b[0m\u001b[0;34m(\u001b[0m\u001b[0mself\u001b[0m\u001b[0;34m,\u001b[0m \u001b[0mkey\u001b[0m\u001b[0;34m,\u001b[0m \u001b[0mvalue\u001b[0m\u001b[0;34m)\u001b[0m\u001b[0;34m\u001b[0m\u001b[0;34m\u001b[0m\u001b[0m\n\u001b[0m\u001b[1;32m   3551\u001b[0m \u001b[0;34m\u001b[0m\u001b[0m\n\u001b[1;32m   3552\u001b[0m         \u001b[0;31m# check if we are modifying a copy\u001b[0m\u001b[0;34m\u001b[0m\u001b[0;34m\u001b[0m\u001b[0;34m\u001b[0m\u001b[0m\n",
      "\u001b[0;32m~/.local/lib/python3.6/site-packages/pandas/core/generic.py\u001b[0m in \u001b[0;36m_set_item\u001b[0;34m(self, key, value)\u001b[0m\n\u001b[1;32m   3379\u001b[0m \u001b[0;34m\u001b[0m\u001b[0m\n\u001b[1;32m   3380\u001b[0m     \u001b[0;32mdef\u001b[0m \u001b[0m_set_item\u001b[0m\u001b[0;34m(\u001b[0m\u001b[0mself\u001b[0m\u001b[0;34m,\u001b[0m \u001b[0mkey\u001b[0m\u001b[0;34m,\u001b[0m \u001b[0mvalue\u001b[0m\u001b[0;34m)\u001b[0m\u001b[0;34m:\u001b[0m\u001b[0;34m\u001b[0m\u001b[0;34m\u001b[0m\u001b[0m\n\u001b[0;32m-> 3381\u001b[0;31m         \u001b[0mself\u001b[0m\u001b[0;34m.\u001b[0m\u001b[0m_data\u001b[0m\u001b[0;34m.\u001b[0m\u001b[0mset\u001b[0m\u001b[0;34m(\u001b[0m\u001b[0mkey\u001b[0m\u001b[0;34m,\u001b[0m \u001b[0mvalue\u001b[0m\u001b[0;34m)\u001b[0m\u001b[0;34m\u001b[0m\u001b[0;34m\u001b[0m\u001b[0m\n\u001b[0m\u001b[1;32m   3382\u001b[0m         \u001b[0mself\u001b[0m\u001b[0;34m.\u001b[0m\u001b[0m_clear_item_cache\u001b[0m\u001b[0;34m(\u001b[0m\u001b[0;34m)\u001b[0m\u001b[0;34m\u001b[0m\u001b[0;34m\u001b[0m\u001b[0m\n\u001b[1;32m   3383\u001b[0m \u001b[0;34m\u001b[0m\u001b[0m\n",
      "\u001b[0;32m~/.local/lib/python3.6/site-packages/pandas/core/internals/managers.py\u001b[0m in \u001b[0;36mset\u001b[0;34m(self, item, value)\u001b[0m\n\u001b[1;32m   1070\u001b[0m         \u001b[0;32mexcept\u001b[0m \u001b[0mKeyError\u001b[0m\u001b[0;34m:\u001b[0m\u001b[0;34m\u001b[0m\u001b[0;34m\u001b[0m\u001b[0m\n\u001b[1;32m   1071\u001b[0m             \u001b[0;31m# This item wasn't present, just insert at end\u001b[0m\u001b[0;34m\u001b[0m\u001b[0;34m\u001b[0m\u001b[0;34m\u001b[0m\u001b[0m\n\u001b[0;32m-> 1072\u001b[0;31m             \u001b[0mself\u001b[0m\u001b[0;34m.\u001b[0m\u001b[0minsert\u001b[0m\u001b[0;34m(\u001b[0m\u001b[0mlen\u001b[0m\u001b[0;34m(\u001b[0m\u001b[0mself\u001b[0m\u001b[0;34m.\u001b[0m\u001b[0mitems\u001b[0m\u001b[0;34m)\u001b[0m\u001b[0;34m,\u001b[0m \u001b[0mitem\u001b[0m\u001b[0;34m,\u001b[0m \u001b[0mvalue\u001b[0m\u001b[0;34m)\u001b[0m\u001b[0;34m\u001b[0m\u001b[0;34m\u001b[0m\u001b[0m\n\u001b[0m\u001b[1;32m   1073\u001b[0m             \u001b[0;32mreturn\u001b[0m\u001b[0;34m\u001b[0m\u001b[0;34m\u001b[0m\u001b[0m\n\u001b[1;32m   1074\u001b[0m \u001b[0;34m\u001b[0m\u001b[0m\n",
      "\u001b[0;32m~/.local/lib/python3.6/site-packages/pandas/core/internals/managers.py\u001b[0m in \u001b[0;36minsert\u001b[0;34m(self, loc, item, value, allow_duplicates)\u001b[0m\n\u001b[1;32m   1179\u001b[0m         \u001b[0mnew_axis\u001b[0m \u001b[0;34m=\u001b[0m \u001b[0mself\u001b[0m\u001b[0;34m.\u001b[0m\u001b[0mitems\u001b[0m\u001b[0;34m.\u001b[0m\u001b[0minsert\u001b[0m\u001b[0;34m(\u001b[0m\u001b[0mloc\u001b[0m\u001b[0;34m,\u001b[0m \u001b[0mitem\u001b[0m\u001b[0;34m)\u001b[0m\u001b[0;34m\u001b[0m\u001b[0;34m\u001b[0m\u001b[0m\n\u001b[1;32m   1180\u001b[0m \u001b[0;34m\u001b[0m\u001b[0m\n\u001b[0;32m-> 1181\u001b[0;31m         \u001b[0mblock\u001b[0m \u001b[0;34m=\u001b[0m \u001b[0mmake_block\u001b[0m\u001b[0;34m(\u001b[0m\u001b[0mvalues\u001b[0m\u001b[0;34m=\u001b[0m\u001b[0mvalue\u001b[0m\u001b[0;34m,\u001b[0m \u001b[0mndim\u001b[0m\u001b[0;34m=\u001b[0m\u001b[0mself\u001b[0m\u001b[0;34m.\u001b[0m\u001b[0mndim\u001b[0m\u001b[0;34m,\u001b[0m \u001b[0mplacement\u001b[0m\u001b[0;34m=\u001b[0m\u001b[0mslice\u001b[0m\u001b[0;34m(\u001b[0m\u001b[0mloc\u001b[0m\u001b[0;34m,\u001b[0m \u001b[0mloc\u001b[0m \u001b[0;34m+\u001b[0m \u001b[0;36m1\u001b[0m\u001b[0;34m)\u001b[0m\u001b[0;34m)\u001b[0m\u001b[0;34m\u001b[0m\u001b[0;34m\u001b[0m\u001b[0m\n\u001b[0m\u001b[1;32m   1182\u001b[0m \u001b[0;34m\u001b[0m\u001b[0m\n\u001b[1;32m   1183\u001b[0m         \u001b[0;32mfor\u001b[0m \u001b[0mblkno\u001b[0m\u001b[0;34m,\u001b[0m \u001b[0mcount\u001b[0m \u001b[0;32min\u001b[0m \u001b[0m_fast_count_smallints\u001b[0m\u001b[0;34m(\u001b[0m\u001b[0mself\u001b[0m\u001b[0;34m.\u001b[0m\u001b[0m_blknos\u001b[0m\u001b[0;34m[\u001b[0m\u001b[0mloc\u001b[0m\u001b[0;34m:\u001b[0m\u001b[0;34m]\u001b[0m\u001b[0;34m)\u001b[0m\u001b[0;34m:\u001b[0m\u001b[0;34m\u001b[0m\u001b[0;34m\u001b[0m\u001b[0m\n",
      "\u001b[0;32m~/.local/lib/python3.6/site-packages/pandas/core/internals/blocks.py\u001b[0m in \u001b[0;36mmake_block\u001b[0;34m(values, placement, klass, ndim, dtype, fastpath)\u001b[0m\n\u001b[1;32m   3265\u001b[0m         \u001b[0mvalues\u001b[0m \u001b[0;34m=\u001b[0m \u001b[0mDatetimeArray\u001b[0m\u001b[0;34m.\u001b[0m\u001b[0m_simple_new\u001b[0m\u001b[0;34m(\u001b[0m\u001b[0mvalues\u001b[0m\u001b[0;34m,\u001b[0m \u001b[0mdtype\u001b[0m\u001b[0;34m=\u001b[0m\u001b[0mdtype\u001b[0m\u001b[0;34m)\u001b[0m\u001b[0;34m\u001b[0m\u001b[0;34m\u001b[0m\u001b[0m\n\u001b[1;32m   3266\u001b[0m \u001b[0;34m\u001b[0m\u001b[0m\n\u001b[0;32m-> 3267\u001b[0;31m     \u001b[0;32mreturn\u001b[0m \u001b[0mklass\u001b[0m\u001b[0;34m(\u001b[0m\u001b[0mvalues\u001b[0m\u001b[0;34m,\u001b[0m \u001b[0mndim\u001b[0m\u001b[0;34m=\u001b[0m\u001b[0mndim\u001b[0m\u001b[0;34m,\u001b[0m \u001b[0mplacement\u001b[0m\u001b[0;34m=\u001b[0m\u001b[0mplacement\u001b[0m\u001b[0;34m)\u001b[0m\u001b[0;34m\u001b[0m\u001b[0;34m\u001b[0m\u001b[0m\n\u001b[0m\u001b[1;32m   3268\u001b[0m \u001b[0;34m\u001b[0m\u001b[0m\n\u001b[1;32m   3269\u001b[0m \u001b[0;34m\u001b[0m\u001b[0m\n",
      "\u001b[0;32m~/.local/lib/python3.6/site-packages/pandas/core/internals/blocks.py\u001b[0m in \u001b[0;36m__init__\u001b[0;34m(self, values, placement, ndim)\u001b[0m\n\u001b[1;32m    126\u001b[0m             raise ValueError(\n\u001b[1;32m    127\u001b[0m                 \u001b[0;34m\"Wrong number of items passed {val}, placement implies \"\u001b[0m\u001b[0;34m\u001b[0m\u001b[0;34m\u001b[0m\u001b[0m\n\u001b[0;32m--> 128\u001b[0;31m                 \u001b[0;34m\"{mgr}\"\u001b[0m\u001b[0;34m.\u001b[0m\u001b[0mformat\u001b[0m\u001b[0;34m(\u001b[0m\u001b[0mval\u001b[0m\u001b[0;34m=\u001b[0m\u001b[0mlen\u001b[0m\u001b[0;34m(\u001b[0m\u001b[0mself\u001b[0m\u001b[0;34m.\u001b[0m\u001b[0mvalues\u001b[0m\u001b[0;34m)\u001b[0m\u001b[0;34m,\u001b[0m \u001b[0mmgr\u001b[0m\u001b[0;34m=\u001b[0m\u001b[0mlen\u001b[0m\u001b[0;34m(\u001b[0m\u001b[0mself\u001b[0m\u001b[0;34m.\u001b[0m\u001b[0mmgr_locs\u001b[0m\u001b[0;34m)\u001b[0m\u001b[0;34m)\u001b[0m\u001b[0;34m\u001b[0m\u001b[0;34m\u001b[0m\u001b[0m\n\u001b[0m\u001b[1;32m    129\u001b[0m             )\n\u001b[1;32m    130\u001b[0m \u001b[0;34m\u001b[0m\u001b[0m\n",
      "\u001b[0;31mValueError\u001b[0m: Wrong number of items passed 2, placement implies 1"
     ]
    }
   ],
   "source": [
    "print (\"File data: \")\n",
    "# filename = raw_input (\"\")\n",
    "filename = \"a280.tsp\"\n",
    "a = Data(filename) \n",
    "test = GA()\n",
    "# route = [274, 217, 250, 58, 72, 47, 33, 141, 25, 26, 125, 14, 127, 18, 105, 188, 168, 118, 265, 205, 229, 224, 218, 15, 249, 238, 227, 221, 198, 214, 136, 280, 252, 209, 8, 150, 269, 137, 4, 5, 246, 142, 164, 74, 19, 89, 87, 17, 22, 91, 61, 131, 9, 20, 186, 104, 122, 76, 98, 60, 197, 267, 12, 148, 126, 161, 201, 256, 243, 237, 278, 255, 175, 174, 183, 102, 211, 203, 109, 272, 279, 167, 119, 40, 165, 231, 78, 154, 84, 176, 39, 116, 262, 264, 50, 16, 7, 99, 128, 277, 226, 155, 124, 185, 178, 85, 117, 216, 173, 143, 135, 79, 30, 24, 199, 273, 275, 94, 149, 53, 193, 3, 70, 115, 263, 276, 242, 65, 68, 110, 157, 152, 261, 239, 133, 140, 62, 71, 36, 171, 202, 247, 163, 121, 158, 213, 144, 151, 210, 206, 114, 194, 55, 82, 177, 153, 258, 101, 42, 268, 38, 106, 88, 54, 228, 92, 180, 138, 64, 112, 31, 132, 130, 215, 172, 160, 52, 113, 192, 1, 28, 222, 208, 59, 200, 96, 51, 83, 259, 166, 77, 75, 27, 43, 184, 108, 181, 123, 169, 182, 129, 271, 219, 232, 260, 251, 240, 48, 37, 179, 230, 241, 254, 212, 57, 146, 35, 170, 147, 93, 103, 45, 90, 111, 67, 63, 120, 13, 225, 195, 41, 233, 266, 139, 234, 56, 145, 236, 6, 235, 159, 162, 223, 66, 190, 245, 270, 248, 44, 46, 49, 80, 196, 97, 189, 134, 2, 95, 29, 69, 34, 21, 100, 187, 32, 73, 86, 220, 10, 253, 23, 107, 191, 11, 257, 204, 244, 81, 156, 207]\n",
    "route = test.initialPopulation(3)\n",
    "print(route)\n",
    "for i in range(0,3):\n",
    "    print(test.routeDistance(route[i]))\n",
    "    print(test.routeFitness(route[i]))\n",
    "currentRanked = test.rankRoutes(route)\n",
    "print(currentRanked)\n",
    "\n",
    "df = pd.DataFrame(np.array(currentRanked), columns=[\"Index\", \"Fitness\"])\n",
    "df['cum_sum'] = df.cumsum()\n",
    "df['cum_perc'] = 100 * df.cum_sum / df.sum()\n",
    "plt.plot(df)"
   ]
  },
  {
   "cell_type": "code",
   "execution_count": null,
   "metadata": {},
   "outputs": [],
   "source": []
  }
 ],
 "metadata": {
  "kernelspec": {
   "display_name": "Python 3",
   "language": "python",
   "name": "python3"
  },
  "language_info": {
   "codemirror_mode": {
    "name": "ipython",
    "version": 3
   },
   "file_extension": ".py",
   "mimetype": "text/x-python",
   "name": "python",
   "nbconvert_exporter": "python",
   "pygments_lexer": "ipython3",
   "version": "3.6.8"
  }
 },
 "nbformat": 4,
 "nbformat_minor": 2
}
